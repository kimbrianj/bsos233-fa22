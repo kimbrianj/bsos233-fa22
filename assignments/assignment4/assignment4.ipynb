{
 "cells": [
  {
   "cell_type": "markdown",
   "metadata": {},
   "source": [
    "# Assignment 4: Regression\n",
    "\n",
    "This assignment covers **Chapters 15-16** from the textbook as well as lecture material from Weeks 10-12. Please complete this assignment by providing answers in cells after the question. Use **Code** cells to write and run any code you need to answer the question and **Markdown** cells to write out answers in words. After you are finished with the assignment, remember to download it as an **HTML file** and submit it in **ELMS**.\n",
    "\n",
    "This assignment is due by **11:59pm on Tuesday, November 22**. "
   ]
  },
  {
   "cell_type": "code",
   "execution_count": null,
   "metadata": {},
   "outputs": [],
   "source": [
    "import numpy as np\n",
    "from datascience import *\n",
    "\n",
    "# These lines do some fancy plotting magic.\n",
    "import matplotlib\n",
    "%matplotlib inline\n",
    "import matplotlib.pyplot as plt\n",
    "\n",
    "from sklearn.linear_model import LinearRegression"
   ]
  },
  {
   "cell_type": "markdown",
   "metadata": {},
   "source": [
    "### Question 1. Linear Regression\n",
    "\n",
    "In this question, we will use linear regression to predict a person's income using their age and number of books read using the Pulse of the Nation dataset. We'll start by taking only the variables we are interested in using."
   ]
  },
  {
   "cell_type": "code",
   "execution_count": null,
   "metadata": {},
   "outputs": [],
   "source": [
    "cah = Table.read_table('201709-CAH_PulseOfTheNation.csv').select('Income', 'Age', 'How many books, if any, have you read in the past year?')\n",
    "cah = cah.relabeled('How many books, if any, have you read in the past year?', 'num_books')"
   ]
  },
  {
   "cell_type": "code",
   "execution_count": null,
   "metadata": {},
   "outputs": [],
   "source": [
    "cah.show(3)"
   ]
  },
  {
   "cell_type": "markdown",
   "metadata": {},
   "source": [
    "**a)** Create a scatterplot of `Age` and `Income`. Do the same with `num_books` and `Income`. Make sure `Income` is on the y-axis for both of these. How would you describe the relationships?"
   ]
  },
  {
   "cell_type": "markdown",
   "metadata": {},
   "source": [
    "**b)** Fit a linear regression model to predict `Income` using `Age` and `Income`. Write out the equation of the line. "
   ]
  },
  {
   "cell_type": "markdown",
   "metadata": {},
   "source": [
    "**c)** Assuming that the original model with both age and number of books read is appropriate, what would be the predicted income of a person who is 40 years old and read 5 books in the past year? "
   ]
  },
  {
   "cell_type": "markdown",
   "metadata": {},
   "source": [
    "**d)** Do you think that a linear regression model is appropriate? Use the scatterplots from part a as well as a residual plot to answer this question.\n",
    "\n",
    "*Hint: See Lab 10 for how to draw residual plots. You can use either of the predictor variables for the x-axis of the residual plot. The y-axis values should be the same for both (the actual income minus the predicted income).*"
   ]
  },
  {
   "cell_type": "markdown",
   "metadata": {},
   "source": [
    "**e)** Find a bootstrap 95% confidence interval for the `num_books` coefficient. Based on this confidence interval, does there seem to be a relationship between the number of books read and income?\n",
    "\n",
    "*Hint: See Lab 11 for how to do this.*"
   ]
  }
 ],
 "metadata": {
  "kernelspec": {
   "display_name": "Python 3",
   "language": "python",
   "name": "python3"
  },
  "language_info": {
   "codemirror_mode": {
    "name": "ipython",
    "version": 3
   },
   "file_extension": ".py",
   "mimetype": "text/x-python",
   "name": "python",
   "nbconvert_exporter": "python",
   "pygments_lexer": "ipython3",
   "version": "3.8.5"
  }
 },
 "nbformat": 4,
 "nbformat_minor": 4
}
