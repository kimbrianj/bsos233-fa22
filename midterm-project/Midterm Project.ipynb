{
 "cells": [
  {
   "cell_type": "markdown",
   "metadata": {},
   "source": [
    "# Midterm Project: Hypothesis Testing\n",
    "\n",
    "This project is due by **11:59pm on Thursday, March 31**."
   ]
  },
  {
   "cell_type": "markdown",
   "metadata": {},
   "source": [
    "So far in this class, we've started out by using numerical and graphical summaries to describe data, then used simulations to be able to make more meaningful conclusions about the data. In this midterm project, you will need to combine all of that together to write up a report using this dataset (which you should hopefully be very familiar with by now).\n",
    "\n",
    "Consider the Cards Against Humanity Pulse of the Nation dataset, provided in `201709-CAH_PulseOfTheNation.csv`. In this project, you will **formulate a question** that can be answered by this dataset, then use **descriptive statistics, hypothesis tests, and confidence intervals** to answer that question. The question that you may ask is quite open-ended, but I've provided a scenario below to help you get started. "
   ]
  },
  {
   "cell_type": "markdown",
   "metadata": {},
   "source": [
    "## Scenario: Public Opinion Research Company\n",
    "\n",
    "Pretend you are working for a public opinion research company, and you have been tasked with finding out characteristics about people based on their political party. In particular, the company wants to know how people from different political parties differ. \n",
    "\n",
    "**Write a report** based on the Pulse of the Nation dataset. Make sure to include:\n",
    "- A clear description of the **question of interest** and the variables you are studying.\n",
    "- **Descriptive statistics and visualizations** that help the reader understand the data better.\n",
    "- **One hypothesis test** or **bootstrap confidence interval** using simulations.\n",
    "- A clear **conclusion** based on your analysis, including a clear **plan of action.**\n",
    "\n",
    "You do not need to look at every single variable in the dataset! Choose **one variable (in addition to Political Affiliation)** to explore. You also don't need to use every single category within Political Affiliation (e.g., you can subset the data to just Democrats and Republicans). Make sure you have a reason for looking at the variables that you did, and motivate why you chose those variables in the introduction. Write your report in a Jupyter Notebook (you can use the Project Template provided), formatting it so that the code is included with the text. You can include a title and section headings by using '#' symbols in Markdown formatting. \n",
    "\n",
    "**DO NOT use commenting or print to provide the text of the report.** You can use comments to make code clearer, but the report itself should contain text in Markdown cells. **Any text that is not in Markdown cells (either printed or in comments) will not be considered as part of the report narrative.** \n",
    "\n",
    "Remember, when formulating your research question, think about how it might be used. **You need to have a policy/action that you suggest at the end.** That is, a hypothesis test or confidence interval is useless if you have no way of using it."
   ]
  },
  {
   "cell_type": "markdown",
   "metadata": {},
   "source": [
    "## Data Dictionary\n",
    "\n",
    "|Variable|Question|\n",
    "|-|-|\n",
    "|Income|What is your income?|\n",
    "|Gender|What is your gender?|\n",
    "|Age|What is your age?|\n",
    "|Age Range|Converted from Age.|\n",
    "|Political Affiliation|What is your political affiliation?|\n",
    "|Trump|Do you approve or disapprove of how Donald Trump is handling his job as president?|\n",
    "|Education| What is your highest level of education?|\n",
    "|Race| What is your race?|\n",
    "|Marital| What is your marital status?|\n",
    "|Automation| What would you say is the likelihood that your current job will be entirely performed by robots or computers within the next decade?|\n",
    "|Climate Change| Do you believe that climate change is real and caused by people, real but not caused by people, or not real at all?|\n",
    "|Transformers Movies| How many Transformers movies have you seen? |\n",
    "|Scientists|Do you agree or disagree with the following statement: scientists are generally honest and are serving the public good. |\n",
    "|Vaccines|Do you agree or disagree with the following statement: vaccines are safe and protect children from disease.|\n",
    "|Books|How many books, if any, have you read in the past year?|\n",
    "|Ghosts|Do you believe in ghosts?|\n",
    "|Scientific Research| What percentage of the federal budget would you estimate is spent on scientific research?|\n",
    "|Federal Funding of Scientific Research| Is federal funding of scientific research too high, too low, or about right?|\n",
    "|Earth and Sun|True or false: the earth is always farther away from the sun in the winter than in the summer.|\n",
    "|Smart or Dumb| If you had to choose: would you rather be smart and sad, or dumb and happy?|\n",
    "|Shower| Do you think it is acceptable or unacceptable to urinate in the shower?|"
   ]
  }
 ],
 "metadata": {
  "kernelspec": {
   "display_name": "Python 3",
   "language": "python",
   "name": "python3"
  },
  "language_info": {
   "codemirror_mode": {
    "name": "ipython",
    "version": 3
   },
   "file_extension": ".py",
   "mimetype": "text/x-python",
   "name": "python",
   "nbconvert_exporter": "python",
   "pygments_lexer": "ipython3",
   "version": "3.8.5"
  },
  "toc": {
   "base_numbering": 1,
   "nav_menu": {},
   "number_sections": true,
   "sideBar": true,
   "skip_h1_title": false,
   "title_cell": "Table of Contents",
   "title_sidebar": "Contents",
   "toc_cell": false,
   "toc_position": {},
   "toc_section_display": true,
   "toc_window_display": false
  }
 },
 "nbformat": 4,
 "nbformat_minor": 4
}
