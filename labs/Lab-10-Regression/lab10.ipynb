{
 "cells": [
  {
   "cell_type": "markdown",
   "metadata": {},
   "source": [
    "## Lab 10: Cryptocurrencies\n",
    "\n",
    "Please complete this lab by providing answers in cells after the question. Use **Code** cells to write and run any code you need to answer the question and **Markdown** cells to write out answers in words. After you are finished with the assignment, remember to download it as an **HTML file** and submit it in **ELMS**.\n",
    "\n",
    "This assignment is due by **11:59pm on Friday, November 11**."
   ]
  },
  {
   "cell_type": "code",
   "execution_count": null,
   "metadata": {},
   "outputs": [],
   "source": [
    "import numpy as np\n",
    "from datascience import *\n",
    "\n",
    "\n",
    "# These lines do some fancy plotting magic.\n",
    "import matplotlib\n",
    "%matplotlib inline\n",
    "import matplotlib.pyplot as plt\n",
    "\n",
    "# This is for linear regression\n",
    "from sklearn.linear_model import LinearRegression"
   ]
  },
  {
   "cell_type": "markdown",
   "metadata": {},
   "source": [
    "Imagine you're an investor in December 2017. Cryptocurrencies, online currencies backed by secure software, are becoming extremely valuable, and you want in on the action!\n",
    "\n",
    "The two most valuable cryptocurrencies are Bitcoin (BTC) and Ethereum (ETH). Each one has a dollar price attached to it at any given moment in time. For example, on December 1st, 2017, one BTC costs $\\$$10859.56 and one ETH costs $\\$$424.64. \n",
    "\n",
    "**You want to predict the price of ETH at some point in time based on the price of BTC.** Below, we [load](https://www.kaggle.com/jessevent/all-crypto-currencies/data) two tables called `btc` and `eth`. Each has 5 columns:\n",
    "* `date`, the date\n",
    "* `open`, the value of the currency at the beginning of the day\n",
    "* `close`, the value of the currency at the end of the day\n",
    "* `market`, the market cap or total dollar value invested in the currency\n",
    "* `day`, the number of days since the start of our data"
   ]
  },
  {
   "cell_type": "code",
   "execution_count": null,
   "metadata": {
    "ExecuteTime": {
     "end_time": "2018-04-04T09:57:46.445990Z",
     "start_time": "2018-04-04T09:57:46.433958Z"
    }
   },
   "outputs": [],
   "source": [
    "btc = Table.read_table('btc.csv')\n",
    "btc.show(5)"
   ]
  },
  {
   "cell_type": "code",
   "execution_count": null,
   "metadata": {
    "ExecuteTime": {
     "end_time": "2018-04-04T09:57:46.458022Z",
     "start_time": "2018-04-04T09:57:46.446994Z"
    }
   },
   "outputs": [],
   "source": [
    "eth = Table.read_table('eth.csv')\n",
    "eth.show(5)"
   ]
  },
  {
   "cell_type": "markdown",
   "metadata": {},
   "source": [
    "### Visualizing the data.\n",
    "\n",
    "We can start by looking at the data to see the relationship between two numerical variables using line plots and scatterplots. "
   ]
  },
  {
   "cell_type": "code",
   "execution_count": null,
   "metadata": {},
   "outputs": [],
   "source": [
    "# Create table with information we want\n",
    "open_prices = Table().with_columns('Day', btc.column('day'), 'Bitcoin', btc.column('open'), 'Ethereum', eth.column('open'))"
   ]
  },
  {
   "cell_type": "code",
   "execution_count": null,
   "metadata": {},
   "outputs": [],
   "source": [
    "# plot the graph\n",
    "open_prices.plot('Day')"
   ]
  },
  {
   "cell_type": "markdown",
   "metadata": {},
   "source": [
    "We can also use a scatterplot to look at the relationship between each open price."
   ]
  },
  {
   "cell_type": "code",
   "execution_count": null,
   "metadata": {},
   "outputs": [],
   "source": [
    "open_prices.scatter('Bitcoin','Ethereum')"
   ]
  },
  {
   "cell_type": "markdown",
   "metadata": {},
   "source": [
    "<font color = 'red'>**Question 1. Create a line plot that visualizes the BTC and ETH *close* prices as a function of time. Both bth and etc close prices should be plotted on the same graph.**</font>\n",
    "\n",
    "Since we want close prices, first create a Table called `close_prices` that contains the necessary information, similar to `open_prices` above."
   ]
  },
  {
   "cell_type": "code",
   "execution_count": null,
   "metadata": {},
   "outputs": [],
   "source": [
    "close_prices = ...\n",
    "\n",
    "\n",
    "\n"
   ]
  },
  {
   "cell_type": "markdown",
   "metadata": {},
   "source": [
    "<font color = 'red'>**Question 2. Create a scatterplot that visualizes the BTC and ETH *close* prices.**</font>"
   ]
  },
  {
   "cell_type": "code",
   "execution_count": null,
   "metadata": {},
   "outputs": [],
   "source": [
    "\n",
    "\n",
    "\n",
    "\n"
   ]
  },
  {
   "cell_type": "markdown",
   "metadata": {},
   "source": [
    "### Fitting the model\n",
    "\n",
    "Now, let's fit a least squares regression line to predict Ethereum open prices using Bitcoin open prices. \n",
    "\n",
    "To find a regression line, we can use the `LinearRegression()` object in the `sklearn` package. To do this, we first create a model object, called `ols` below. Think of this object has having all of the instructions for fitting a linear regression."
   ]
  },
  {
   "cell_type": "code",
   "execution_count": null,
   "metadata": {},
   "outputs": [],
   "source": [
    "ols = LinearRegression()"
   ]
  },
  {
   "cell_type": "markdown",
   "metadata": {},
   "source": [
    "Then we can get the regression output by giving it the `X` and `y` data. Note that we need to provide each of them in a certain format: the `X` needs to take in Table rows (since it can take in multiple variables), while the `y` can take in a numpy array."
   ]
  },
  {
   "cell_type": "code",
   "execution_count": null,
   "metadata": {},
   "outputs": [],
   "source": [
    "predictor = btc.select('open').rows\n",
    "outcome = eth.column('open')\n",
    "\n",
    "ols.fit(X = predictor, y = outcome)"
   ]
  },
  {
   "cell_type": "markdown",
   "metadata": {},
   "source": [
    "The `ols` object contains all of the information about the regression fit for the data we have. The slope can be found using the `.coef_` instance variable while the `.intercept` instance variables contains the intercept information."
   ]
  },
  {
   "cell_type": "code",
   "execution_count": null,
   "metadata": {},
   "outputs": [],
   "source": [
    "# Slope\n",
    "ols.coef_"
   ]
  },
  {
   "cell_type": "code",
   "execution_count": null,
   "metadata": {},
   "outputs": [],
   "source": [
    "# Intercept\n",
    "ols.intercept_"
   ]
  },
  {
   "cell_type": "markdown",
   "metadata": {},
   "source": [
    "<font color = 'red'>**Question 3. What is the form of the equation of the best fit line for predicting Ethereum open prices from Bitcoin open prices? What would your conclusion be about the relationship between the two?**<\\font>"
   ]
  },
  {
   "cell_type": "markdown",
   "metadata": {},
   "source": [
    "*Your answer here.*"
   ]
  },
  {
   "cell_type": "markdown",
   "metadata": {},
   "source": [
    "<font color = 'red'>**Question 4. Find the slope and intercept of the least squares regression line for predicting Ethereum close prices from Bitcoin close prices. What would you conclude about the relationship between Bitcoin and Ethereum close prices?**</font>"
   ]
  },
  {
   "cell_type": "code",
   "execution_count": null,
   "metadata": {},
   "outputs": [],
   "source": [
    "close_ols = ...\n",
    "close_predictor = ...\n",
    "close_outcome = ...\n",
    "\n",
    "..."
   ]
  },
  {
   "cell_type": "markdown",
   "metadata": {},
   "source": [
    "### Finding predictions\n",
    "\n",
    "You can find predicted values by using the `.predict()` method. For example, suppose you wanted to find the predicted Ethereum open price if the Bitcoin open price were 200, 250, or 300. "
   ]
  },
  {
   "cell_type": "code",
   "execution_count": null,
   "metadata": {},
   "outputs": [],
   "source": [
    "# Make a Table with the Bitcoin prices we want predict with\n",
    "pred_x = Table().with_columns('btc', make_array(200,250,300))\n",
    "ols.predict(pred_x.rows)"
   ]
  },
  {
   "cell_type": "markdown",
   "metadata": {},
   "source": [
    "The predicted Ethereum open prices if Bitcoin open price was 200, 250, or 300 are 12.2, 14.7, or 17.2, respectively."
   ]
  },
  {
   "cell_type": "markdown",
   "metadata": {},
   "source": [
    "<font color = 'red'>**Question 5. What would the predicted Ethereum close prices be if the Bitcoin close prices were 100, 150, or 200?**</font>"
   ]
  },
  {
   "cell_type": "code",
   "execution_count": null,
   "metadata": {},
   "outputs": [],
   "source": [
    "\n",
    "\n",
    "\n"
   ]
  },
  {
   "cell_type": "markdown",
   "metadata": {},
   "source": [
    "### Visualizing the Best Fit Line\n",
    "\n",
    "We can use the predict function to find and draw the line of best fit as well. We simply predict for the `X` values that we fit the model on, and draw a line on top of the scatterplot. Note that we are using the `plot` function from `matplotlib`, which we have brought in as `plt`. In this case, `plt` is analogous to `np` when using a NumPy function."
   ]
  },
  {
   "cell_type": "code",
   "execution_count": null,
   "metadata": {},
   "outputs": [],
   "source": [
    "open_prices.scatter('Bitcoin','Ethereum')\n",
    "plt.plot(predictor, ols.predict(predictor) , lw=4, color='gold')"
   ]
  },
  {
   "cell_type": "markdown",
   "metadata": {},
   "source": [
    "<font color = 'red'>**Question 6. Create a scatterplot of Bitcoin and Ethereum close prices, as well as the linear regression line.**</font>"
   ]
  },
  {
   "cell_type": "code",
   "execution_count": null,
   "metadata": {},
   "outputs": [],
   "source": [
    "\n",
    "\n",
    "\n"
   ]
  },
  {
   "cell_type": "markdown",
   "metadata": {},
   "source": [
    "### Diagnostics\n",
    "\n",
    "An OLS linear regression isn't always the best way to describe the relationship between two variables. Notably, there are a few assumptions that go along with this method. \n",
    "\n",
    "**Some Assumptions**\n",
    "- The relationship between the x and y variable should be linear.\n",
    "- The variability of the y variable should be constant as the x variable changes.\n",
    "\n",
    "If these assumptions aren't met, then it's an indication that using a linear regression might not be appropriate. You can check by using the graph to get an idea for how appropriate the line might be."
   ]
  },
  {
   "cell_type": "markdown",
   "metadata": {},
   "source": [
    "<font color = 'red'>**Question 7. Considering the shape of the scatter plot of the close price data, is the model we used reasonable? If so, what features or characteristics make this model reasonable? If not, what features or characteristics make it unreasonable?**</font>"
   ]
  },
  {
   "cell_type": "markdown",
   "metadata": {},
   "source": [
    "*Type your answer here*"
   ]
  },
  {
   "cell_type": "markdown",
   "metadata": {},
   "source": [
    "Let's try creating a residual plot now. The code below shows how we might do it using the open prices. We first create a Table called `residuals` that contains the x value, as well as the residual, which we find by taking the difference between the actual outcome and the predicted outcome. Then we use scatter to graph it and add a horizontal line at 0 as a reference.\n",
    "\n",
    "Remember, we are looking for no pattern in this scatterplot, with points randomly scatter evenly above and below the horizontal line at 0. "
   ]
  },
  {
   "cell_type": "code",
   "execution_count": null,
   "metadata": {},
   "outputs": [],
   "source": [
    "residuals = Table().with_columns('Bitcoin Open Price', btc.column('open'), \n",
    "                                 'Residual', outcome - ols.predict(predictor))\n",
    "residuals.scatter('Bitcoin Open Price', 'Residual')\n",
    "plt.axhline(y=0, color='red', linestyle='--')"
   ]
  },
  {
   "cell_type": "markdown",
   "metadata": {},
   "source": [
    "<font color = 'red'>**Question 8. Was it appropriate to use a linear regression to use Bitcoin open prices to predict Etherium open prices? Create a residual plot for the close prices regression. Was it appropriate to use a linear regression for that one?**</font>"
   ]
  },
  {
   "cell_type": "code",
   "execution_count": null,
   "metadata": {},
   "outputs": [],
   "source": [
    "\n",
    "\n",
    "\n"
   ]
  }
 ],
 "metadata": {
  "kernelspec": {
   "display_name": "Python 3",
   "language": "python",
   "name": "python3"
  },
  "language_info": {
   "codemirror_mode": {
    "name": "ipython",
    "version": 3
   },
   "file_extension": ".py",
   "mimetype": "text/x-python",
   "name": "python",
   "nbconvert_exporter": "python",
   "pygments_lexer": "ipython3",
   "version": "3.8.5"
  }
 },
 "nbformat": 4,
 "nbformat_minor": 4
}
